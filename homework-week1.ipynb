{
 "cells": [
  {
   "cell_type": "code",
   "execution_count": 1,
   "id": "7d785f41-20e5-4e5a-8092-b742466633d4",
   "metadata": {},
   "outputs": [],
   "source": [
    "import requests \n",
    "import elasticsearch"
   ]
  },
  {
   "cell_type": "markdown",
   "id": "c94e9548-5f35-4260-810a-ee0a93ee99e9",
   "metadata": {},
   "source": [
    "Let's download the collection of the documents for the task:"
   ]
  },
  {
   "cell_type": "code",
   "execution_count": 2,
   "id": "b702d403-3c5b-4995-a98b-c36d13eaffc5",
   "metadata": {},
   "outputs": [],
   "source": [
    "def download_documents(link):\n",
    "    docs_response = requests.get(docs_url)\n",
    "    documents_raw = docs_response.json()\n",
    "    \n",
    "    documents = []\n",
    "    \n",
    "    for course in documents_raw:\n",
    "        course_name = course['course']\n",
    "    \n",
    "        for doc in course['documents']:\n",
    "            doc['course'] = course_name\n",
    "            documents.append(doc)\n",
    "\n",
    "    return documents"
   ]
  },
  {
   "cell_type": "code",
   "execution_count": 3,
   "id": "86c8e87d-be9b-4f09-9eb6-5485c016c701",
   "metadata": {},
   "outputs": [],
   "source": [
    "docs_url = 'https://github.com/DataTalksClub/llm-zoomcamp/blob/main/01-intro/documents.json?raw=1'\n",
    "\n",
    "docs_base = download_documents(docs_url)"
   ]
  },
  {
   "cell_type": "code",
   "execution_count": 11,
   "id": "34f6f07f-bcbe-4028-bde0-77e1c426a283",
   "metadata": {},
   "outputs": [
    {
     "data": {
      "text/plain": [
       "{'text': 'It depends on your background and previous experience with modules. It is expected to require about 5 - 15 hours per week. [source1] [source2]\\nYou can also calculate it yourself using this data and then update this answer.',\n",
       " 'section': 'General course-related questions',\n",
       " 'question': 'Course - \\u200b\\u200bHow many hours per week am I expected to spend on this  course?',\n",
       " 'course': 'data-engineering-zoomcamp'}"
      ]
     },
     "execution_count": 11,
     "metadata": {},
     "output_type": "execute_result"
    }
   ],
   "source": [
    "docs_base[10]"
   ]
  },
  {
   "cell_type": "markdown",
   "id": "3f21eb66-eba0-4e48-95cd-66b172e194ff",
   "metadata": {},
   "source": [
    "The next step is to index the downloaded data with Elastic Search:"
   ]
  },
  {
   "cell_type": "code",
   "execution_count": 13,
   "id": "9d8709c7-c7aa-4a5b-a33d-3d5c47b776f0",
   "metadata": {},
   "outputs": [],
   "source": [
    "es_client = elasticsearch.Elasticsearch('http://localhost:9200')"
   ]
  },
  {
   "cell_type": "code",
   "execution_count": 16,
   "id": "1b1aefcd-2236-4e13-aed1-817d36f6e745",
   "metadata": {},
   "outputs": [
    {
     "data": {
      "text/plain": [
       "ObjectApiResponse({'acknowledged': True, 'shards_acknowledged': True, 'index': 'course_questions'})"
      ]
     },
     "execution_count": 16,
     "metadata": {},
     "output_type": "execute_result"
    }
   ],
   "source": [
    "index_settings = {\n",
    "    \"settings\": {\n",
    "        \"number_of_shards\": 1,\n",
    "        \"number_of_replicas\": 0\n",
    "                },\n",
    "    \"mappings\": {\n",
    "        \"properties\": {\n",
    "            \"text\": {\"type\": \"text\"},\n",
    "            \"section\": {\"type\": \"text\"},\n",
    "            \"question\": {\"type\": \"text\"},\n",
    "            \"course\": {\"type\": \"keyword\"} \n",
    "                    }\n",
    "                }\n",
    "                    }\n",
    "\n",
    "index_name = \"course_questions\"\n",
    "\n",
    "es_client.indices.create(index=index_name, body=index_settings)\n"
   ]
  },
  {
   "cell_type": "code",
   "execution_count": 23,
   "id": "0e0e1a32-8b69-4e5a-bef1-fef7e6e690ac",
   "metadata": {},
   "outputs": [
    {
     "name": "stderr",
     "output_type": "stream",
     "text": [
      "100%|████████████████████████████████████████████████████████████████████████████████████████████████████████████████████████████████████████████████████████████| 948/948 [00:29<00:00, 32.52it/s]\n"
     ]
    }
   ],
   "source": [
    "from tqdm.autonotebook import tqdm\n",
    "\n",
    "\n",
    "for doc in tqdm(docs_base):\n",
    "    es_client.index(index=index_name, document=doc)\n"
   ]
  },
  {
   "cell_type": "markdown",
   "id": "1aa0c4dc-c0a1-447a-983a-50e4e87b3bbf",
   "metadata": {},
   "source": [
    "Let's try to execute some queries"
   ]
  },
  {
   "cell_type": "code",
   "execution_count": 40,
   "id": "2d840a9a-d3c8-44da-9a32-b7b6e73c9ce5",
   "metadata": {},
   "outputs": [],
   "source": [
    "def elastic_func(query, fields, size=5, filter=None):\n",
    "    search_query = {\n",
    "        'size': size,\n",
    "        'query': {\n",
    "            'bool': {\n",
    "                'must': {\n",
    "                    'multi_match': {\n",
    "                        'query': query,\n",
    "                        'fields': fields,\n",
    "                        'type': 'best_fields'\n",
    "                    }\n",
    "                }\n",
    "            }\n",
    "        }\n",
    "    }\n",
    "\n",
    "    if filter:\n",
    "        search_query['query']['bool']['filter'] = {\n",
    "            'term': filter\n",
    "        }\n",
    "        \n",
    "    response = es_client.search(index=index_name, body=search_query)\n",
    "    return response['hits']['hits']"
   ]
  },
  {
   "cell_type": "code",
   "execution_count": 41,
   "id": "fe7a9472-4bd1-4edc-b3dc-fb38101b9922",
   "metadata": {},
   "outputs": [],
   "source": [
    "task_query = 'How do I execute a command in a running docker container?'"
   ]
  },
  {
   "cell_type": "code",
   "execution_count": 46,
   "id": "44b08354-0b5e-43a7-a258-6e1a2ce1a00f",
   "metadata": {},
   "outputs": [
    {
     "data": {
      "text/plain": [
       "{'_index': 'course_questions',\n",
       " '_id': 'qcn9b5ABT1pLlRzITEx4',\n",
       " '_score': 85.48184,\n",
       " '_source': {'text': 'Launch the container image in interactive mode and overriding the entrypoint, so that it starts a bash command.\\ndocker run -it --entrypoint bash <image>\\nIf the container is already running, execute a command in the specific container:\\ndocker ps (find the container-id)\\ndocker exec -it <container-id> bash\\n(Marcos MJD)',\n",
       "  'section': '5. Deploying Machine Learning Models',\n",
       "  'question': 'How do I debug a docker container?',\n",
       "  'course': 'machine-learning-zoomcamp'}}"
      ]
     },
     "execution_count": 46,
     "metadata": {},
     "output_type": "execute_result"
    }
   ],
   "source": [
    "search_output = elastic_func(task_query, ['question^4', 'text'])\n",
    "search_output[0]"
   ]
  },
  {
   "cell_type": "code",
   "execution_count": 48,
   "id": "e0aa344e-354f-44e1-8a74-ba303955700e",
   "metadata": {},
   "outputs": [
    {
     "data": {
      "text/plain": [
       "{'_index': 'course_questions',\n",
       " '_id': 'ycn9b5ABT1pLlRzIUExd',\n",
       " '_score': 51.133015,\n",
       " '_source': {'text': 'You can copy files from your local machine into a Docker container using the docker cp command. Here\\'s how to do it:\\nIn the Dockerfile, you can provide the folder containing the files that you want to copy over. The basic syntax is as follows:\\nCOPY [\"src/predict.py\", \"models/xgb_model.bin\", \"./\"]\\t\\t\\t\\t\\t\\t\\t\\t\\t\\t\\tGopakumar Gopinathan',\n",
       "  'section': '5. Deploying Machine Learning Models',\n",
       "  'question': 'How do I copy files from a different folder into docker container’s working directory?',\n",
       "  'course': 'machine-learning-zoomcamp'}}"
      ]
     },
     "execution_count": 48,
     "metadata": {},
     "output_type": "execute_result"
    }
   ],
   "source": [
    "search_filt_output = elastic_func(task_query, ['question^4', 'text'], size=3, filter={'course': 'machine-learning-zoomcamp'})\n",
    "search_filt_output[2]"
   ]
  },
  {
   "cell_type": "markdown",
   "id": "7bc467b0-4dcf-4861-97ad-229603ce0974",
   "metadata": {},
   "source": [
    "Now creating a prompt for a LLM with the search results"
   ]
  },
  {
   "cell_type": "code",
   "execution_count": 68,
   "id": "312697f2-6fd7-443e-b5f1-3f9cf0bafd2f",
   "metadata": {},
   "outputs": [],
   "source": [
    "def build_prompt(query, search_results, prompt_template):\n",
    "    context= '\\n\\n'.join([\n",
    "        f\"Q: {result['_source']['question']}\\nA: {result['_source']['text']}\".strip() for result in search_results])\n",
    "    prompt = prompt_template.format(question=query, context=context).strip()\n",
    "    return prompt"
   ]
  },
  {
   "cell_type": "code",
   "execution_count": 69,
   "id": "6e358b0f-9118-4f55-80c0-6e425a2be543",
   "metadata": {},
   "outputs": [],
   "source": [
    "prompt_template = \"\"\"\n",
    "You're a course teaching assistant. Answer the QUESTION based on the CONTEXT from the FAQ database.\n",
    "Use only the facts from the CONTEXT when answering the QUESTION.\n",
    "\n",
    "QUESTION: {question}\n",
    "\n",
    "CONTEXT:\n",
    "{context}\n",
    "\"\"\".strip()\n",
    "\n",
    "resulting_prompt = build_prompt(task_query, search_filt_output, prompt_template)"
   ]
  },
  {
   "cell_type": "code",
   "execution_count": 71,
   "id": "8a5a0ba7-39c7-460c-b2b9-0a56d8c5b681",
   "metadata": {},
   "outputs": [
    {
     "name": "stdout",
     "output_type": "stream",
     "text": [
      "You're a course teaching assistant. Answer the QUESTION based on the CONTEXT from the FAQ database.\n",
      "Use only the facts from the CONTEXT when answering the QUESTION.\n",
      "\n",
      "QUESTION: How do I execute a command in a running docker container?\n",
      "\n",
      "CONTEXT:\n",
      "Q: How do I debug a docker container?\n",
      "A: Launch the container image in interactive mode and overriding the entrypoint, so that it starts a bash command.\n",
      "docker run -it --entrypoint bash <image>\n",
      "If the container is already running, execute a command in the specific container:\n",
      "docker ps (find the container-id)\n",
      "docker exec -it <container-id> bash\n",
      "(Marcos MJD)\n",
      "\n",
      "Q: How do I copy files from my local machine to docker container?\n",
      "A: You can copy files from your local machine into a Docker container using the docker cp command. Here's how to do it:\n",
      "To copy a file or directory from your local machine into a running Docker container, you can use the `docker cp command`. The basic syntax is as follows:\n",
      "docker cp /path/to/local/file_or_directory container_id:/path/in/container\n",
      "Hrithik Kumar Advani\n",
      "\n",
      "Q: How do I copy files from a different folder into docker container’s working directory?\n",
      "A: You can copy files from your local machine into a Docker container using the docker cp command. Here's how to do it:\n",
      "In the Dockerfile, you can provide the folder containing the files that you want to copy over. The basic syntax is as follows:\n",
      "COPY [\"src/predict.py\", \"models/xgb_model.bin\", \"./\"]\t\t\t\t\t\t\t\t\t\t\tGopakumar Gopinathan\n"
     ]
    }
   ],
   "source": [
    "print(resulting_prompt)"
   ]
  },
  {
   "cell_type": "code",
   "execution_count": 72,
   "id": "be6bb953-9024-4a9a-a5dc-ab7e1e430a81",
   "metadata": {},
   "outputs": [
    {
     "data": {
      "text/plain": [
       "1462"
      ]
     },
     "execution_count": 72,
     "metadata": {},
     "output_type": "execute_result"
    }
   ],
   "source": [
    "len(resulting_prompt)"
   ]
  },
  {
   "cell_type": "markdown",
   "id": "c776d0f5-ae3a-4bf1-9598-b19324478526",
   "metadata": {},
   "source": [
    "Calculating tokens with tiktoken:"
   ]
  },
  {
   "cell_type": "code",
   "execution_count": 75,
   "id": "173a9424-7efb-4a93-8e1f-aed2ef1d31b1",
   "metadata": {},
   "outputs": [
    {
     "data": {
      "text/plain": [
       "322"
      ]
     },
     "execution_count": 75,
     "metadata": {},
     "output_type": "execute_result"
    }
   ],
   "source": [
    "import tiktoken\n",
    "\n",
    "encoding = tiktoken.encoding_for_model(\"gpt-4o\")\n",
    "encoded_prompt = encoding.encode(resulting_prompt)\n",
    "len(encoded_prompt)"
   ]
  },
  {
   "cell_type": "markdown",
   "id": "824425a8-f3b0-4480-ac01-f538b0a0db2d",
   "metadata": {},
   "source": [
    "Calculating the average price for OpenAI:"
   ]
  },
  {
   "cell_type": "code",
   "execution_count": 77,
   "id": "220641d5-ab9c-4f8b-9a3c-4a9e1e49b9b6",
   "metadata": {},
   "outputs": [
    {
     "data": {
      "text/plain": [
       "4.5"
      ]
     },
     "execution_count": 77,
     "metadata": {},
     "output_type": "execute_result"
    }
   ],
   "source": [
    "150*1000/1000000*5 + 250*1000/1000000*15"
   ]
  },
  {
   "cell_type": "code",
   "execution_count": null,
   "id": "1e8b47d9-b463-47bd-a014-8d75f26b2db4",
   "metadata": {},
   "outputs": [],
   "source": []
  }
 ],
 "metadata": {
  "kernelspec": {
   "display_name": "Python 3 (ipykernel)",
   "language": "python",
   "name": "python3"
  },
  "language_info": {
   "codemirror_mode": {
    "name": "ipython",
    "version": 3
   },
   "file_extension": ".py",
   "mimetype": "text/x-python",
   "name": "python",
   "nbconvert_exporter": "python",
   "pygments_lexer": "ipython3",
   "version": "3.10.14"
  }
 },
 "nbformat": 4,
 "nbformat_minor": 5
}
